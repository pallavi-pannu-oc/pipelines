{
 "cells": [
  {
   "cell_type": "code",
   "execution_count": 1,
   "metadata": {},
   "outputs": [],
   "source": [
    "import kfp\n",
    "import json\n",
    "import os\n",
    "from dkube.sdk import *\n",
    "from dkube.sdk import DkubeApi"
   ]
  },
  {
   "cell_type": "code",
   "execution_count": 2,
   "metadata": {},
   "outputs": [],
   "source": [
    "components_url = \"/mnt/dkube/pipeline/components/\"\n",
    "storage_op = kfp.components.load_component_from_file(\"/mnt/dkube/pipeline/components/storage/component.yaml\")\n",
    "dkube_preprocessing_op = kfp.components.load_component_from_file(components_url + \"preprocess/component.yaml\")\n",
    "dkube_training_op = kfp.components.load_component_from_file(components_url + \"training/component.yaml\")\n",
    "dkube_serving_op = kfp.components.load_component_from_file(components_url + \"serving/component.yaml\")\n",
    "token = os.getenv(\"DKUBE_USER_ACCESS_TOKEN\")"
   ]
  },
  {
   "cell_type": "code",
   "execution_count": 3,
   "metadata": {},
   "outputs": [],
   "source": [
    "image = \"ocdr/d3-datascience-sklearn:v0.23.2-1\"\n",
    "code = \"arvados-changes-1\"\n",
    "dataset=\"ARVV\"\n",
    "ptrain_dataset=\"ARVV\"\n",
    "train_fs_name = \"arv-s3-fs-train\"\n",
    "dataset_mount_points = [\"/opt/dkube/input\"]\n",
    "featureset_mount_points = [\"/featureset/train\"]\n",
    "preprocessing_script = f\"python arvados-s3/preprocessing.py --train_fs {train_fs_name}\"\n",
    "model = \"arv-s3\"\n",
    "training_script = \"python arvados-s3/arvados-training.py\"\n",
    "train_out_mount_points = [\"/model\"]\n",
    "output_dataset = \"output-ARVV\"\n",
    "output_mount_path = \"/output-ARVV\""
   ]
  },
  {
   "cell_type": "code",
   "execution_count": null,
   "metadata": {},
   "outputs": [],
   "source": [
    "api = DkubeApi(token=token)\n",
    "api.create_featureset(DkubeFeatureSet(train_fs_name))"
   ]
  },
  {
   "cell_type": "code",
   "execution_count": 11,
   "metadata": {},
   "outputs": [],
   "source": [
    "def arv_pipeline(token,code,dataset):\n",
    "\n",
    "    with kfp.dsl.ExitHandler(\n",
    "        exit_op=storage_op(\"reclaim\", auth_token=token, namespace=\"kubeflow\", uid=\"{{workflow.uid}}\")\n",
    "    ):\n",
    "      \n",
    "                    \n",
    "        preprocessing = dkube_preprocessing_op(token, json.dumps({\"image\": image}),\n",
    "                                            program = code,run_script=preprocessing_script,\n",
    "                                            datasets=json.dumps([ptrain_dataset]), \n",
    "                                            output_featuresets=json.dumps([train_fs_name]),\n",
    "                                            input_dataset_mounts=json.dumps(dataset_mount_points), \n",
    "                                            output_featureset_mounts=json.dumps(featureset_mount_points),\n",
    "                                            outputs = json.dumps([output_dataset]),output_mounts=json.dumps([output_mount_path]))\n",
    "        \n",
    "        dataset_volume = json.dumps(\n",
    "            [\"{{workflow.uid}}-featureset@featureset://\" + train_fs_name,\n",
    "            \"{{workflow.uid}}-dataset@dataset://\" + output_dataset\n",
    "            ])\n",
    "\n",
    "        storage = storage_op(\n",
    "            \"export\",auth_token=token, namespace=\"kubeflow\", input_volumes=dataset_volume,output_volumes=json.dumps([\"{{workflow.uid}}-dataset@dataset://\"+output_dataset])).after(preprocessing)\n",
    "\n",
    "        list_dataset = kfp.dsl.ContainerOp(\n",
    "            name=\"container-op\",\n",
    "            image=\"docker.io/ocdr/dkube-datascience-tf-cpu:v2.0.0-3\",\n",
    "            command=\"bash\",\n",
    "            arguments=[\"-c\", \"ls /output-ARVV\"],\n",
    "            pvolumes={\n",
    "                \"/output-ARVV\": kfp.dsl.PipelineVolume(pvc=\"{{workflow.uid}}-dataset\")\n",
    "            },\n",
    "        ).after(storage)\n",
    "\n",
    "        train = dkube_training_op(token, json.dumps({\"image\": image}),\n",
    "                                    framework=\"sklearn\", version=\"0.23.2\",\n",
    "                                    program=code, run_script=training_script,\n",
    "                                    featuresets= json.dumps([train_fs_name]), outputs=json.dumps([model]),\n",
    "                                    input_featureset_mounts=json.dumps(featureset_mount_points),\n",
    "                                    output_mounts=json.dumps(train_out_mount_points)).after(preprocessing)\n",
    "\n",
    "        serving = dkube_serving_op(token,model=model,\n",
    "    device=\"cpu\",\n",
    "            serving_image='{\"image\":\"ocdr/sklearnserver:0.23.2\"}',\n",
    "        ).after(train)\n"
   ]
  },
  {
   "cell_type": "code",
   "execution_count": 12,
   "metadata": {},
   "outputs": [
    {
     "data": {
      "text/html": [
       "<a href=\"/pipeline/#/experiments/details/7dff7171-9f88-44b3-9a3d-1b367e9e7454\" target=\"_blank\" >Experiment details</a>."
      ],
      "text/plain": [
       "<IPython.core.display.HTML object>"
      ]
     },
     "metadata": {},
     "output_type": "display_data"
    },
    {
     "data": {
      "text/html": [
       "<a href=\"/pipeline/#/runs/details/ce070940-e17b-406b-ad47-1f7accce12a0\" target=\"_blank\" >Run details</a>."
      ],
      "text/plain": [
       "<IPython.core.display.HTML object>"
      ]
     },
     "metadata": {},
     "output_type": "display_data"
    },
    {
     "data": {
      "text/plain": [
       "RunPipelineResult(run_id=ce070940-e17b-406b-ad47-1f7accce12a0)"
      ]
     },
     "execution_count": 12,
     "metadata": {},
     "output_type": "execute_result"
    }
   ],
   "source": [
    "client = kfp.Client(existing_token=token)\n",
    "client.create_run_from_pipeline_func(arv_pipeline,arguments={\"token\":token,\"code\":code,\"dataset\":dataset})"
   ]
  },
  {
   "cell_type": "code",
   "execution_count": null,
   "metadata": {},
   "outputs": [],
   "source": []
  }
 ],
 "metadata": {
  "kernelspec": {
   "display_name": "Python 3",
   "language": "python",
   "name": "python3"
  },
  "language_info": {
   "codemirror_mode": {
    "name": "ipython",
    "version": 3
   },
   "file_extension": ".py",
   "mimetype": "text/x-python",
   "name": "python",
   "nbconvert_exporter": "python",
   "pygments_lexer": "ipython3",
   "version": "3.6.8"
  }
 },
 "nbformat": 4,
 "nbformat_minor": 4
}

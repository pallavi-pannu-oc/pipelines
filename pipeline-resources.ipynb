{
 "cells": [
  {
   "cell_type": "markdown",
   "metadata": {},
   "source": [
    "### Importing libraries"
   ]
  },
  {
   "cell_type": "code",
   "execution_count": null,
   "metadata": {},
   "outputs": [],
   "source": [
    "import os,sys,kfp,zipfile,json\n",
    "from typing import Callable\n",
    "from kfp.components._structures import MetadataSpec\n",
    "import kfp\n",
    "import string,random,tempfile,datetime\n",
    "import kfp.components as kfplc\n",
    "from typing import NamedTuple\n",
    "from dkube.sdk import *"
   ]
  },
  {
   "cell_type": "markdown",
   "metadata": {},
   "source": [
    "### DKUBE-SDK"
   ]
  },
  {
   "cell_type": "code",
   "execution_count": null,
   "metadata": {},
   "outputs": [],
   "source": [
    "token = os.getenv(\"DKUBE_USER_ACCESS_TOKEN\")\n",
    "username =  os.getenv(\"USERNAME\")\n",
    "dkube_url = os.getenv(\"DKUBE_URL\")\n",
    "api = DkubeApi(URL=dkube_url,token=token)"
   ]
  },
  {
   "cell_type": "markdown",
   "metadata": {},
   "source": [
    "### Create Resources"
   ]
  },
  {
   "cell_type": "code",
   "execution_count": null,
   "metadata": {},
   "outputs": [],
   "source": [
    "def artifactmgr(user: str, token: str):\n",
    "    import json\n",
    "    from dkube.sdk.api import DkubeApi\n",
    "    from dkube.sdk.rsrcs import DkubeCode\n",
    "    from dkube.sdk.rsrcs import DkubeDataset\n",
    "    from dkube.sdk.rsrcs import DkubeModel\n",
    "\n",
    "\n",
    "    api = DkubeApi(token=token)\n",
    "\n",
    "    # Block to create the code resources here\n",
    "    # Copy/Paste below lines to create N num of code resources from here\n",
    "    name = \"mnist-1\"\n",
    "    code = DkubeCode(user, name=name)\n",
    "    code.update_git_details(\n",
    "        'https://github.com/oneconvergence/dkube-examples-internal/tree/2.0.6/tensorflow/classification/mnist/digits/classifier/program')\n",
    "    api.create_code(code)\n",
    "\n",
    "    # Create the input dataset resources here\n",
    "    name = \"mnist-ds\"\n",
    "    dataset = DkubeDataset(user, name=name)\n",
    "    dataset.update_dataset_source(source='git')\n",
    "    dataset.update_git_details(\n",
    "        'https://github.com/oneconvergence/dkube-examples-internal/tree/2.0.6/tensorflow/classification/mnist/digits/classifier/data')\n",
    "    api.create_dataset(dataset)\n",
    "\n",
    "    # Create the output dataset resources here.\n",
    "    output_datasets = [\"output-ds-1\", \"output-ds-2\"]\n",
    "    for name in output_datasets:\n",
    "        dataset = DkubeDataset(user, name=name)\n",
    "        dataset.update_dataset_source(source='dvs')\n",
    "        api.create_dataset(dataset)\n",
    "\n",
    "    # Create the output model resources here\n",
    "    output_models = [\"output-model-1\", \"output-model-2\"]\n",
    "    for name in output_models:\n",
    "        model = DkubeModel(user, name=name)\n",
    "        model.update_model_source(source='dvs')\n",
    "        api.create_model(model)\n"
   ]
  },
  {
   "cell_type": "code",
   "execution_count": null,
   "metadata": {},
   "outputs": [],
   "source": [
    "def componentize(fn: Callable, name: str, desc: str,\n",
    "                 image: str, annotations: dict, labels: dict):\n",
    "    labels.update({'wfid': '{{workflow.uid}}', 'runid': '{{pod.name}}'})\n",
    "    md = MetadataSpec(annotations=annotations, labels=labels)\n",
    "\n",
    "    fn._component_human_name = name\n",
    "    fn._component_description = desc\n",
    "\n",
    "    cfunc = kfp.components.create_component_from_func(\n",
    "        fn,\n",
    "        base_image=image,\n",
    "    )\n",
    "    cfunc.component_spec.metadata = md\n",
    "    envs: Mapping[str, str] = {'pipeline': 'true',\n",
    "                               'wfid': '{{workflow.uid}}', 'runid': '{{pod.name}}'}\n",
    "    cfunc.component_spec.implementation.container.env = envs\n",
    "    cfunc.component_spec.save(\"artifactmgr.yaml\")\n",
    "    return cfunc"
   ]
  },
  {
   "cell_type": "markdown",
   "metadata": {},
   "source": [
    "### Create a Component"
   ]
  },
  {
   "cell_type": "code",
   "execution_count": null,
   "metadata": {},
   "outputs": [],
   "source": [
    "\n",
    "dkube_artifact_op = componentize(artifactmgr,\n",
    "                                 \"dkube_artifactmgr\",\n",
    "                                 \"DKube artifact resource manager\",\n",
    "                                 \"ocdr/dkube_launcher:viz\",\n",
    "                                 {\n",
    "                                     'platform': 'Dkube'\n",
    "                                 },\n",
    "                                 {\n",
    "                                     'platform': 'Dkube',\n",
    "                                     'logger': 'dkubepl',\n",
    "                                     'dkube.garbagecollect': 'false',\n",
    "                                     'dkube.garbagecollect.policy':\n",
    "                                     'all'\n",
    "                                 })"
   ]
  },
  {
   "cell_type": "markdown",
   "metadata": {},
   "source": [
    "### Loading the component from above created yaml"
   ]
  },
  {
   "cell_type": "code",
   "execution_count": null,
   "metadata": {},
   "outputs": [],
   "source": [
    "dkube_artifact_op = kfp.components.load_component_from_file(\"artifactmgr.yaml\")\n",
    "\n",
    "client = kfp.Client(existing_token=token)"
   ]
  },
  {
   "cell_type": "markdown",
   "metadata": {},
   "source": [
    "### Pipeline Definition"
   ]
  },
  {
   "cell_type": "code",
   "execution_count": null,
   "metadata": {},
   "outputs": [],
   "source": [
    "@kfp.dsl.pipeline(\n",
    "    name='pl-resources',\n",
    "    description='create resources'\n",
    ")\n",
    "def resources_pipeline(token):\n",
    "    \n",
    "        rs_pl  = dkube_artifact_op(username, token)"
   ]
  },
  {
   "cell_type": "markdown",
   "metadata": {},
   "source": [
    "### Create Run"
   ]
  },
  {
   "cell_type": "code",
   "execution_count": null,
   "metadata": {},
   "outputs": [],
   "source": [
    "client.create_run_from_pipeline_func(resources_pipeline, arguments={\"token\":token})"
   ]
  },
  {
   "cell_type": "markdown",
   "metadata": {},
   "source": [
    "### Upload Pipeline"
   ]
  },
  {
   "cell_type": "code",
   "execution_count": null,
   "metadata": {},
   "outputs": [],
   "source": [
    "def generate(name):\n",
    "    timestamp = datetime.datetime.now().strftime(\"%H%M%S\")\n",
    "    return \"{}-{}{}\".format(\n",
    "        name, timestamp, \"\".join([random.choice(string.digits) for n in range(4)])\n",
    "    )\n",
    "name = generate(\"resource-pl\")\n",
    "f = tempfile.NamedTemporaryFile(suffix=\".zip\", delete=False)\n",
    "kfp.compiler.Compiler().compile(resources_pipeline, f.name)\n",
    "client.upload_pipeline(f.name, pipeline_name=name)"
   ]
  }
 ],
 "metadata": {
  "kernelspec": {
   "display_name": "Python 3",
   "language": "python",
   "name": "python3"
  },
  "language_info": {
   "codemirror_mode": {
    "name": "ipython",
    "version": 3
   },
   "file_extension": ".py",
   "mimetype": "text/x-python",
   "name": "python",
   "nbconvert_exporter": "python",
   "pygments_lexer": "ipython3",
   "version": "3.6.8"
  }
 },
 "nbformat": 4,
 "nbformat_minor": 4
}

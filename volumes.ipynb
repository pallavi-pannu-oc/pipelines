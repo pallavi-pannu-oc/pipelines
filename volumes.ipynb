{
 "cells": [
  {
   "cell_type": "markdown",
   "metadata": {},
   "source": [
    "### pipeline example to create volumes"
   ]
  },
  {
   "cell_type": "code",
   "execution_count": null,
   "metadata": {},
   "outputs": [],
   "source": [
    "## new-volume.yaml\n",
    "''' \n",
    "apiVersion: v1\n",
    "kind: PersistentVolume\n",
    "metadata:\n",
    " name: new-volume\n",
    "spec:\n",
    " accessModes:\n",
    " - ReadWriteMany\n",
    " capacity:\n",
    "   storage: 1Gi\n",
    " hostPath:\n",
    "   path: /home/dkube/new-volume\n",
    " persistentVolumeReclaimPolicy: Retain\n",
    "'''\n",
    "## Run the below command on terminal\n",
    "#kubectl create -f new-volume.yaml"
   ]
  },
  {
   "cell_type": "code",
   "execution_count": null,
   "metadata": {},
   "outputs": [],
   "source": [
    "import kfp\n",
    "import kfp.dsl as dsl"
   ]
  },
  {
   "cell_type": "code",
   "execution_count": null,
   "metadata": {},
   "outputs": [],
   "source": [
    "@kfp.dsl.pipeline(\n",
    "  name='volume-secrets',\n",
    "  description='Simple-volume-secrets-pl'\n",
    ")\n",
    "def volumes_secret_pipeline():\n",
    "    dvop = dsl.VolumeOp(name=\"create_pvc\",resource_name=\"my-pvclaim\",size=\"500Mi\",modes=dsl.VOLUME_MODE_RWM,volume_name ='new-volume')\n",
    "    step1 = dsl.ContainerOp(name=\"step1\",image=\"library/bash:4.4.23\",command=[\"sh\", \"-c\"],arguments=[\"echo 1 | tee /mnt/file1\"],pvolumes={\"/mnt\": dvop.volume})\n",
    "    step2 = dsl.ContainerOp(name=\"step2\",image=\"library/bash:4.4.23\",command=[\"sh\", \"-c\"],arguments=[\"echo 2 | tee /mnt2/file2\"],pvolumes={\"/mnt2\": dvop.volume})\n",
    "    step3 = dsl.ContainerOp(name=\"step3\",image=\"library/bash:4.4.23\",command=[\"sh\", \"-c\"],arguments=[\"cat /mnt/file1 /mnt/file2\"],pvolumes={\"/mnt\": dvop.volume.after(step1, step2)})\n"
   ]
  },
  {
   "cell_type": "code",
   "execution_count": null,
   "metadata": {},
   "outputs": [],
   "source": [
    "client = kfp.Client(existing_token=token)\n",
    "client.create_run_from_pipeline_func(volumes_secret_pipeline, arguments={})"
   ]
  },
  {
   "cell_type": "code",
   "execution_count": null,
   "metadata": {},
   "outputs": [],
   "source": []
  },
  {
   "cell_type": "code",
   "execution_count": null,
   "metadata": {},
   "outputs": [],
   "source": []
  }
 ],
 "metadata": {
  "kernelspec": {
   "display_name": "Python 3",
   "language": "python",
   "name": "python3"
  },
  "language_info": {
   "codemirror_mode": {
    "name": "ipython",
    "version": 3
   },
   "file_extension": ".py",
   "mimetype": "text/x-python",
   "name": "python",
   "nbconvert_exporter": "python",
   "pygments_lexer": "ipython3",
   "version": "3.6.8"
  }
 },
 "nbformat": 4,
 "nbformat_minor": 4
}

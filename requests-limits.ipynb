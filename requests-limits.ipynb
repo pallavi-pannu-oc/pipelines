{
 "cells": [
  {
   "cell_type": "code",
   "execution_count": null,
   "metadata": {},
   "outputs": [],
   "source": [
    "import os,sys,json\n",
    "import kfp"
   ]
  },
  {
   "cell_type": "code",
   "execution_count": null,
   "metadata": {},
   "outputs": [],
   "source": [
    "components_url = \"/mnt/dkube/pipeline/components/\"\n",
    "dkube_training_op = kfp.components.load_component_from_file(components_url + \"training/component.yaml\")\n",
    "dkube_serving_op = kfp.components.load_component_from_file(components_url + \"serving/component.yaml\")\n",
    "token = os.getenv(\"DKUBE_USER_ACCESS_TOKEN\")\n",
    "client = kfp.Client(existing_token=token)"
   ]
  },
  {
   "cell_type": "code",
   "execution_count": null,
   "metadata": {},
   "outputs": [],
   "source": [
    "@kfp.dsl.pipeline(\n",
    "    name='dkube-limits-pl',\n",
    "    description='pl with limits and requests '\n",
    ")\n",
    "def limits_requests_pipeline(token,limits_cpu,limits_memory,requests_cpu,requests_memory):\n",
    "\n",
    "    train       = dkube_training_op(token, '{\"image\":\"ocdr/dkube-datascience-tf-cpu:v2.0.0\"}',\n",
    "                                    framework=\"tensorflow\", version=\"2.0.0\",\n",
    "                                    program=\"dkube-examples\", run_script=\"python mnist/train.py\",\n",
    "                                    datasets='[\"mnist\"]', outputs='[\"mnist\"]',\n",
    "                                    input_dataset_mounts='[\"/mnist\"]',\n",
    "                                    output_mounts='[\"/model\"]',\n",
    "                                    envs='[{\"EPOCHS\": \"1\",\"LIMITS.cpu\": \"limits_cpu\",\"LIMITS.memory\": \"limits_memory\" ,\"REQUESTS.cpu\": \"requests_cpu\",\"REQUESTS.memory\":\"requests_memory\"}]')"
   ]
  },
  {
   "cell_type": "code",
   "execution_count": null,
   "metadata": {},
   "outputs": [],
   "source": [
    "client.create_run_from_pipeline_func(limits_requests_pipeline, arguments={\"token\":token,\"limits_cpu\": \"500m\",\"limits_memory\": \"128Mi\", \"requests_cpu\": \"250m\",\"requests_memory\": \"64Mi\"})"
   ]
  }
 ],
 "metadata": {
  "kernelspec": {
   "display_name": "Python 3",
   "language": "python",
   "name": "python3"
  },
  "language_info": {
   "codemirror_mode": {
    "name": "ipython",
    "version": 3
   },
   "file_extension": ".py",
   "mimetype": "text/x-python",
   "name": "python",
   "nbconvert_exporter": "python",
   "pygments_lexer": "ipython3",
   "version": "3.6.8"
  }
 },
 "nbformat": 4,
 "nbformat_minor": 4
}

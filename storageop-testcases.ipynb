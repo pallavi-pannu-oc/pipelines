{
 "cells": [
  {
   "cell_type": "code",
   "execution_count": 19,
   "metadata": {},
   "outputs": [],
   "source": [
    "import kfp"
   ]
  },
  {
   "cell_type": "code",
   "execution_count": 7,
   "metadata": {},
   "outputs": [],
   "source": [
    "token = os.getenv(\"DKUBE_USER_ACCESS_TOKEN\")"
   ]
  },
  {
   "cell_type": "code",
   "execution_count": 8,
   "metadata": {},
   "outputs": [],
   "source": [
    "storage_op = kfp.components.load_component_from_file(\"/mnt/dkube/pipeline/components/storage/component.yaml\")"
   ]
  },
  {
   "cell_type": "code",
   "execution_count": 16,
   "metadata": {},
   "outputs": [],
   "source": [
    "@kfp.dsl.pipeline(name='StorageOp-test',description='StorageOp component')\n",
    "\n",
    "def storageop_testcases(auth_token,dataset_name,model_name,dataset_version,model_version):\n",
    "    with kfp.dsl.ExitHandler(exit_op=storage_op(\"reclaim\", auth_token, namespace=\"kubeflow\",uid=\"{{workflow.uid}}\")):\n",
    "            input_volumes = json.dumps([\"{{workflow.uid}}-dataset@dataset://\"+str(dataset_name)+\"/\"+str(dataset_version),\"{{workflow.uid}}-model@model://\" + str(model_name)+\"/\"+str(model_version)])\n",
    "            output_volumes=json.dumps([\"{{workflow.uid}}-dataset@dataset://\"+str(dataset_name),\"{{workflow.uid}}-model@model://\" + str(model_name)])\n",
    "            storage  = storage_op(\"export\", token, namespace=\"kubeflow\", input_volumes=input_volumes, output_volumes = output_volumes)\n",
    "            train = kfp.dsl.ContainerOp(\n",
    "                name=\"container-op\",\n",
    "                image=\"docker.io/ocdr/dkube-datascience-tf-cpu:v2.0.0-3\",\n",
    "                command=\"bash\", \n",
    "                arguments=[\"-c\", \"ls /model\"],\n",
    "                pvolumes={\n",
    "                         \"/dataset\": kfp.dsl.PipelineVolume(pvc=\"{{workflow.uid}}-dataset\"),\n",
    "                         \"/model\": kfp.dsl.PipelineVolume(pvc=\"{{workflow.uid}}-model\")\n",
    "                         }).after(storage)\n",
    "            "
   ]
  },
  {
   "cell_type": "code",
   "execution_count": 17,
   "metadata": {},
   "outputs": [],
   "source": [
    "dataset_name = \"arv-s3\"\n",
    "model_name = \"Img-DN\"\n",
    "dataset_version = \"v1\"\n",
    "model_version = \"v2\""
   ]
  },
  {
   "cell_type": "code",
   "execution_count": 18,
   "metadata": {},
   "outputs": [
    {
     "data": {
      "text/html": [
       "Experiment link <a href=\"/pipeline/#/experiments/details/7dff7171-9f88-44b3-9a3d-1b367e9e7454\" target=\"_blank\" >here</a>"
      ],
      "text/plain": [
       "<IPython.core.display.HTML object>"
      ]
     },
     "metadata": {},
     "output_type": "display_data"
    },
    {
     "data": {
      "text/html": [
       "Run link <a href=\"/pipeline/#/runs/details/8c610e4f-dd90-44b4-90ff-16e1ebd323bd\" target=\"_blank\" >here</a>"
      ],
      "text/plain": [
       "<IPython.core.display.HTML object>"
      ]
     },
     "metadata": {},
     "output_type": "display_data"
    },
    {
     "data": {
      "text/plain": [
       "RunPipelineResult(run_id=8c610e4f-dd90-44b4-90ff-16e1ebd323bd)"
      ]
     },
     "execution_count": 18,
     "metadata": {},
     "output_type": "execute_result"
    }
   ],
   "source": [
    "client = kfp.Client(existing_token=token)\n",
    "client.create_run_from_pipeline_func(storageop_testcases,arguments={\"auth_token\":token,\"dataset_name\":dataset_name,\"model_name\":model_name,\"dataset_version\":dataset_version,\"model_version\":model_version})\n",
    "\n"
   ]
  },
  {
   "cell_type": "code",
   "execution_count": null,
   "metadata": {},
   "outputs": [],
   "source": []
  }
 ],
 "metadata": {
  "kernelspec": {
   "display_name": "Python 3",
   "language": "python",
   "name": "python3"
  },
  "language_info": {
   "codemirror_mode": {
    "name": "ipython",
    "version": 3
   },
   "file_extension": ".py",
   "mimetype": "text/x-python",
   "name": "python",
   "nbconvert_exporter": "python",
   "pygments_lexer": "ipython3",
   "version": "3.6.8"
  }
 },
 "nbformat": 4,
 "nbformat_minor": 4
}

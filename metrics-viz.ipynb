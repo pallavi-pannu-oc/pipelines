{
 "cells": [
  {
   "cell_type": "code",
   "execution_count": 39,
   "metadata": {},
   "outputs": [],
   "source": [
    "import kfp.components as kfplc\n",
    "import kfp,os\n",
    "from kfp.components._structures import MetadataSpec\n",
    "from typing import Callable\n",
    "from typing import NamedTuple\n",
    "import string,random,tempfile,datetime\n",
    "from dkube.sdk import *"
   ]
  },
  {
   "cell_type": "code",
   "execution_count": 40,
   "metadata": {},
   "outputs": [],
   "source": [
    "token = os.getenv(\"DKUBE_USER_ACCESS_TOKEN\")\n",
    "username =  os.getenv(\"USERNAME\")\n",
    "dkube_url = os.getenv(\"DKUBE_URL\")\n",
    "api = DkubeApi(URL=dkube_url,token=token)"
   ]
  },
  {
   "cell_type": "code",
   "execution_count": 41,
   "metadata": {},
   "outputs": [],
   "source": [
    "def visualize(user:str, token:str, run_details: str) -> NamedTuple('Outputs', [\n",
    "  ('mlpipeline_metrics', 'Metrics'),\n",
    "]):\n",
    "    import json\n",
    "    import pandas as pd\n",
    "    from minio import Minio\n",
    "    from dkube.sdk.api import DkubeApi\n",
    "\n",
    "    print(run_details)\n",
    "    details = json.loads(run_details)\n",
    "    jobname = details['Jobname']\n",
    "    api = DkubeApi(token=token)\n",
    "    lineage = api.get_training_run_lineage(user, jobname)\n",
    "\n",
    "    print(lineage)\n",
    "    model = lineage['run']['parameters']['training']['datums']['outputs'][0]['name']\n",
    "    version = lineage['run']['parameters']['training']['datums']['outputs'][0]['version']\n",
    "\n",
    "    model = model.split(':')[1]\n",
    "    metrics_url = \"/users/{}/model/{}/{}/data/metrics/metrics.csv\".format(user, model, version)\n",
    "    print(metrics_url)\n",
    "\n",
    "    client = Minio(\n",
    "        \"dkube-minio-server.dkube-infra:9000\",\n",
    "        access_key=\"dkube\",\n",
    "        secret_key=\"l06dands19s\",\n",
    "        secure=False\n",
    "    )\n",
    "\n",
    "    obj = client.get_object(\n",
    "        \"dkube\",\n",
    "        metrics_url,\n",
    "    )\n",
    "\n",
    "    metrics = []\n",
    "    df = pd.read_csv(obj)\n",
    "    for (name, value) in df.iteritems():\n",
    "        print(name)\n",
    "        print(value.values[0])\n",
    "        metric = {\"name\": name.strip(), \"numberValue\": value.values[0]}\n",
    "        metrics.append(metric)\n",
    "\n",
    "    metrics = {'metrics': metrics}\n",
    "    print(metrics)\n",
    "\n",
    "    return [json.dumps(metrics)]"
   ]
  },
  {
   "cell_type": "code",
   "execution_count": 42,
   "metadata": {},
   "outputs": [],
   "source": [
    "def componentize(fn: Callable, name: str, desc: str,\n",
    "                 image: str, annotations: dict, labels: dict):\n",
    "    labels.update({'wfid': '{{workflow.uid}}', 'runid': '{{pod.name}}'})\n",
    "    md = MetadataSpec(annotations=annotations, labels=labels)\n",
    "\n",
    "    fn._component_human_name = name\n",
    "    fn._component_description = desc\n",
    "\n",
    "    cfunc = kfp.components.create_component_from_func(\n",
    "        fn,\n",
    "        base_image=image,\n",
    "    )\n",
    "    cfunc.component_spec.metadata = md\n",
    "    envs: Mapping[str, str] = {'pipeline': 'true',\n",
    "                               'wfid': '{{workflow.uid}}', 'runid': '{{pod.name}}'}\n",
    "    cfunc.component_spec.implementation.container.env = envs\n",
    "    cfunc.component_spec.save(\"metricviz.yaml\")\n",
    "    return cfunc"
   ]
  },
  {
   "cell_type": "code",
   "execution_count": 43,
   "metadata": {},
   "outputs": [],
   "source": [
    "dkube_metrics_vizop = componentize(visualize,\n",
    "                                 \"dkube_metricsviz\",\n",
    "                                 \"Visualizer for dkube metrics\",\n",
    "                                 \"ocdr/dkube_launcher:viz\",\n",
    "                                 {\n",
    "                                     'platform': 'Dkube'\n",
    "                                 },\n",
    "                                 {\n",
    "                                     'platform': 'Dkube',\n",
    "                                     'logger': 'dkubepl',\n",
    "                                     'dkube.garbagecollect': 'false',\n",
    "                                     'dkube.garbagecollect.policy':\n",
    "                                     'all'\n",
    "                                 })"
   ]
  },
  {
   "cell_type": "code",
   "execution_count": 44,
   "metadata": {},
   "outputs": [],
   "source": [
    "dkube_metrics_vizop  = kfp.components.load_component_from_file(\"metricviz.yaml\")\n",
    "\n",
    "client = kfp.Client(existing_token=token)"
   ]
  },
  {
   "cell_type": "code",
   "execution_count": 45,
   "metadata": {},
   "outputs": [],
   "source": [
    "@kfp.dsl.pipeline(\n",
    "    name='metric-pl',\n",
    "    description='csv-pl-metrics'\n",
    ")\n",
    "def metrics_pipeline(token):\n",
    "    \n",
    "    metrics_pl  = dkube_metrics_vizop(username, token,\"W3Omuu\")"
   ]
  },
  {
   "cell_type": "code",
   "execution_count": 46,
   "metadata": {},
   "outputs": [
    {
     "data": {
      "text/html": [
       "Experiment link <a href=\"/pipeline/#/experiments/details/c3df551f-c09e-4e3a-a47b-139e6025d55b\" target=\"_blank\" >here</a>"
      ],
      "text/plain": [
       "<IPython.core.display.HTML object>"
      ]
     },
     "metadata": {},
     "output_type": "display_data"
    },
    {
     "data": {
      "text/html": [
       "Run link <a href=\"/pipeline/#/runs/details/67ac3170-84aa-4ab0-89e7-8fd9b27b12c4\" target=\"_blank\" >here</a>"
      ],
      "text/plain": [
       "<IPython.core.display.HTML object>"
      ]
     },
     "metadata": {},
     "output_type": "display_data"
    },
    {
     "data": {
      "text/plain": [
       "RunPipelineResult(run_id=67ac3170-84aa-4ab0-89e7-8fd9b27b12c4)"
      ]
     },
     "execution_count": 46,
     "metadata": {},
     "output_type": "execute_result"
    }
   ],
   "source": [
    "client.create_run_from_pipeline_func(metrics_pipeline, arguments={\"token\":token})"
   ]
  },
  {
   "cell_type": "code",
   "execution_count": 47,
   "metadata": {},
   "outputs": [
    {
     "data": {
      "text/html": [
       "Pipeline link <a href=/pipeline/#/pipelines/details/1e0983f3-08a9-4113-bad5-f3ab90f7a3c0>here</a>"
      ],
      "text/plain": [
       "<IPython.core.display.HTML object>"
      ]
     },
     "metadata": {},
     "output_type": "display_data"
    },
    {
     "data": {
      "text/plain": [
       "{'created_at': datetime.datetime(2021, 5, 31, 12, 10, 40, tzinfo=tzlocal()),\n",
       " 'default_version': {'code_source_url': None,\n",
       "                     'created_at': datetime.datetime(2021, 5, 31, 12, 10, 40, tzinfo=tzlocal()),\n",
       "                     'id': '1e0983f3-08a9-4113-bad5-f3ab90f7a3c0',\n",
       "                     'name': 'metrics.pl-1210407374',\n",
       "                     'package_url': None,\n",
       "                     'parameters': [{'name': 'token', 'value': None}],\n",
       "                     'resource_references': [{'key': {'id': '1e0983f3-08a9-4113-bad5-f3ab90f7a3c0',\n",
       "                                                      'type': 'PIPELINE'},\n",
       "                                              'name': None,\n",
       "                                              'relationship': 'OWNER'}]},\n",
       " 'description': None,\n",
       " 'error': None,\n",
       " 'id': '1e0983f3-08a9-4113-bad5-f3ab90f7a3c0',\n",
       " 'name': 'metrics.pl-1210407374',\n",
       " 'parameters': [{'name': 'token', 'value': None}],\n",
       " 'resource_references': None,\n",
       " 'url': None}"
      ]
     },
     "execution_count": 47,
     "metadata": {},
     "output_type": "execute_result"
    }
   ],
   "source": [
    "def generate(name):\n",
    "    timestamp = datetime.datetime.now().strftime(\"%H%M%S\")\n",
    "    return \"{}-{}{}\".format(\n",
    "        name, timestamp, \"\".join([random.choice(string.digits) for n in range(4)])\n",
    "    )\n",
    "name = generate(\"metrics.pl\")\n",
    "f = tempfile.NamedTemporaryFile(suffix=\".zip\", delete=False)\n",
    "kfp.compiler.Compiler().compile(metrics_pipeline, f.name)\n",
    "client.upload_pipeline(f.name, pipeline_name=name)"
   ]
  },
  {
   "cell_type": "code",
   "execution_count": null,
   "metadata": {},
   "outputs": [],
   "source": []
  }
 ],
 "metadata": {
  "kernelspec": {
   "display_name": "Python 3",
   "language": "python",
   "name": "python3"
  },
  "language_info": {
   "codemirror_mode": {
    "name": "ipython",
    "version": 3
   },
   "file_extension": ".py",
   "mimetype": "text/x-python",
   "name": "python",
   "nbconvert_exporter": "python",
   "pygments_lexer": "ipython3",
   "version": "3.6.8"
  }
 },
 "nbformat": 4,
 "nbformat_minor": 4
}

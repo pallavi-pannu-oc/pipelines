{
 "cells": [
  {
   "cell_type": "code",
   "execution_count": null,
   "metadata": {},
   "outputs": [],
   "source": [
    "## Read dataset from arv-s3"
   ]
  },
  {
   "cell_type": "code",
   "execution_count": 61,
   "metadata": {},
   "outputs": [
    {
     "name": "stdout",
     "output_type": "stream",
     "text": [
      "config.json  credentials\n"
     ]
    }
   ],
   "source": [
    "!ls /opt/dkube/input"
   ]
  },
  {
   "cell_type": "code",
   "execution_count": 63,
   "metadata": {},
   "outputs": [],
   "source": [
    "import json\n",
    "import os\n",
    "import kfp"
   ]
  },
  {
   "cell_type": "code",
   "execution_count": 64,
   "metadata": {},
   "outputs": [],
   "source": [
    "components_url = \"/mnt/dkube/pipeline/components/\"\n",
    "\n",
    "dkube_training_op = kfp.components.load_component_from_file(components_url+\"training/component.yaml\")\n",
    "storage_op = kfp.components.load_component_from_file(components_url+\"storage/component.yaml\")\n",
    "dkube_serving_op = kfp.components.load_component_from_file(components_url + \"serving/component.yaml\")"
   ]
  },
  {
   "cell_type": "code",
   "execution_count": 65,
   "metadata": {},
   "outputs": [],
   "source": [
    "token = os.getenv(\"DKUBE_USER_ACCESS_TOKEN\")\n",
    "username =  os.getenv(\"USERNAME\")\n",
    "client = kfp.Client(existing_token=token)"
   ]
  },
  {
   "cell_type": "code",
   "execution_count": 74,
   "metadata": {},
   "outputs": [],
   "source": [
    "code = \"arv-s3-pallavi\"\n",
    "dataset = \"arv-s3\"\n",
    "model = \"arv-s3\"\n",
    "dataset_mount_path = \"/opt/dkube/input\"\n",
    "model_mount_path = \"/opt/dkube/output\"\n",
    "run_script = \"python arv-s3.py\""
   ]
  },
  {
   "cell_type": "code",
   "execution_count": 77,
   "metadata": {},
   "outputs": [],
   "source": [
    "@kfp.dsl.pipeline(name='arv-s3',description='arvados-s3-pipeline')\n",
    "def arv_pipeline(auth_token,code,dataset,model,dataset_mount_path,model_mount_path,run_script):\n",
    "    \n",
    "    with kfp.dsl.ExitHandler(exit_op=storage_op(\"reclaim\",auth_token=token,namespace=\"kubeflow\", uid=\"{{workflow.uid}}\")):\n",
    "        \n",
    "        dataset_volume = json.dumps([\"{{workflow.uid}}-dataset@dataset://\" + str(dataset)])\n",
    "        \n",
    "        storage = storage_op(\"export\",auth_token = token, namespace=\"kubeflow\", input_volumes = dataset_volume)\n",
    "\n",
    "        list_dataset = kfp.dsl.ContainerOp(name=\"container-op\",image=\"docker.io/ocdr/dkube-datascience-tf-cpu:v2.0.0-3\",command=\"bash\",arguments=[\"-c\", \"ls /dataset/CMU-1\"],\n",
    "                                        pvolumes={\"/dataset\": kfp.dsl.PipelineVolume(pvc=\"{{workflow.uid}}-dataset\")}).after(storage)\n",
    "        \n",
    "        \n",
    "        train = dkube_training_op(auth_token=token,container='{\"image\":\"docker.io/ocdr/d3-datascience-sklearn:v0.23.2\"}',\n",
    "                                  framework=\"sklearn\",\n",
    "                                  version=\"0.23.2\",\n",
    "                                  program=str(code),\n",
    "                                  run_script=str(run_script),\n",
    "                                  datasets=json.dumps([str(dataset)]),\n",
    "                                  outputs=json.dumps([str(model)]),\n",
    "                                  input_dataset_mounts=json.dumps([str(dataset_mount_path)]),\n",
    "                                  output_mounts=json.dumps([str(model_mount_path)])).after(storage)\n",
    "\n",
    "        serving = dkube_serving_op(auth_token = token, model = model , device='cpu', serving_image='{\"image\":\"ocdr/sklearnserver:0.23.2\"}').after(train)\n",
    "        "
   ]
  },
  {
   "cell_type": "code",
   "execution_count": 78,
   "metadata": {},
   "outputs": [
    {
     "data": {
      "text/html": [
       "Experiment link <a href=\"/pipeline/#/experiments/details/7dff7171-9f88-44b3-9a3d-1b367e9e7454\" target=\"_blank\" >here</a>"
      ],
      "text/plain": [
       "<IPython.core.display.HTML object>"
      ]
     },
     "metadata": {},
     "output_type": "display_data"
    },
    {
     "data": {
      "text/html": [
       "Run link <a href=\"/pipeline/#/runs/details/1b9e56d6-531b-4546-8f91-469058b327b5\" target=\"_blank\" >here</a>"
      ],
      "text/plain": [
       "<IPython.core.display.HTML object>"
      ]
     },
     "metadata": {},
     "output_type": "display_data"
    },
    {
     "data": {
      "text/plain": [
       "RunPipelineResult(run_id=1b9e56d6-531b-4546-8f91-469058b327b5)"
      ]
     },
     "execution_count": 78,
     "metadata": {},
     "output_type": "execute_result"
    }
   ],
   "source": [
    "client.create_run_from_pipeline_func(arv_pipeline,arguments={\"auth_token\":token,\"code\":code,\"dataset\":dataset,\"model\":model,\"dataset_mount_path\":dataset_mount_path,\"model_mount_path\":model_mount_path,\"run_script\":run_script})"
   ]
  },
  {
   "cell_type": "code",
   "execution_count": null,
   "metadata": {},
   "outputs": [],
   "source": []
  },
  {
   "cell_type": "code",
   "execution_count": null,
   "metadata": {},
   "outputs": [],
   "source": []
  },
  {
   "cell_type": "code",
   "execution_count": null,
   "metadata": {},
   "outputs": [],
   "source": []
  }
 ],
 "metadata": {
  "kernelspec": {
   "display_name": "Python 3",
   "language": "python",
   "name": "python3"
  },
  "language_info": {
   "codemirror_mode": {
    "name": "ipython",
    "version": 3
   },
   "file_extension": ".py",
   "mimetype": "text/x-python",
   "name": "python",
   "nbconvert_exporter": "python",
   "pygments_lexer": "ipython3",
   "version": "3.6.8"
  }
 },
 "nbformat": 4,
 "nbformat_minor": 4
}

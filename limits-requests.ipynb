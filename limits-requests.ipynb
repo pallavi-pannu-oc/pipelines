{
 "cells": [
  {
   "cell_type": "code",
   "execution_count": null,
   "metadata": {},
   "outputs": [],
   "source": [
    "import kfp\n",
    "import os"
   ]
  },
  {
   "cell_type": "code",
   "execution_count": null,
   "metadata": {},
   "outputs": [],
   "source": [
    "def set_env_var():\n",
    "    import os\n",
    "    import logging\n",
    "    \n",
    "    logging.info('The environment variable LIMITS for cpu before is: {}'.format(os.getenv('LIMITS.cpu')))\n",
    "    logging.info('The environment variable REQUESTS for memory before is: {}'.format(os.getenv('REQUESTS.memory')))\n",
    "    \n",
    "    \n",
    "    limits_cpu = str(os.getenv('LIMITS.cpu',os.getenv('limits_cpu')))\n",
    "    limits_memory = str(os.getenv('LIMITS.memory',os.getenv('limits_memory')))\n",
    "    \n",
    "    \n",
    "    requests_cpu = str(os.getenv('REQUESTS.cpu',os.getenv('requests_cpu')))\n",
    "    requests_memory = str(os.getenv('REQUESTS.memory',os.getenv('requests_memory')))\n",
    "    \n",
    "    logging.info('The environment variable limits for cpu after is: {}'.format(limits_cpu))\n",
    "    logging.info('The environment variable requests for memory after is: {}'.format(requests_memory))"
   ]
  },
  {
   "cell_type": "code",
   "execution_count": null,
   "metadata": {},
   "outputs": [],
   "source": [
    "image_name = 'tensorflow/tensorflow:1.11.0-py3'\n",
    "env_function_op = kfp.components.func_to_container_op(set_env_var,base_image=image_name)"
   ]
  },
  {
   "cell_type": "code",
   "execution_count": null,
   "metadata": {},
   "outputs": [],
   "source": [
    "import kfp.dsl as dsl\n",
    "from kubernetes.client.models import V1EnvVar\n",
    "\n",
    "@dsl.pipeline(\n",
    "  name='Env eg',\n",
    "  description='pl to set env var LIMITS,REQUESTS'\n",
    ")\n",
    "def environment_pipeline(limits_cpu,limits_memory,requests_cpu,requests_memory):\n",
    "    container_op = env_function_op().add_env_variable(V1EnvVar(name='limits_cpu', value=limits_cpu)).add_env_variable(V1EnvVar(name='limits_memory', value=limits_memory)).add_env_variable(V1EnvVar(name='requests_cpu', value=requests_cpu)).add_env_variable(V1EnvVar(name='requests_memory', value=requests_memory))"
   ]
  },
  {
   "cell_type": "code",
   "execution_count": null,
   "metadata": {},
   "outputs": [],
   "source": [
    "token = os.getenv(\"DKUBE_USER_ACCESS_TOKEN\")\n",
    "client = kfp.Client(existing_token=token)"
   ]
  },
  {
   "cell_type": "code",
   "execution_count": null,
   "metadata": {},
   "outputs": [],
   "source": [
    "#Specify pipeline argument values\n",
    "arguments = {\"limits_cpu\": \"500m\",\"limits_memory\": \"128Mi\", \"requests_cpu\": \"250m\",\"requests_memory\": \"64Mi\"}\n",
    "\n",
    "#Submit a pipeline run\n",
    "client.create_run_from_pipeline_func(environment_pipeline,arguments=arguments)"
   ]
  },
  {
   "cell_type": "code",
   "execution_count": null,
   "metadata": {},
   "outputs": [],
   "source": []
  }
 ],
 "metadata": {
  "kernelspec": {
   "display_name": "Python 3",
   "language": "python",
   "name": "python3"
  },
  "language_info": {
   "codemirror_mode": {
    "name": "ipython",
    "version": 3
   },
   "file_extension": ".py",
   "mimetype": "text/x-python",
   "name": "python",
   "nbconvert_exporter": "python",
   "pygments_lexer": "ipython3",
   "version": "3.6.8"
  }
 },
 "nbformat": 4,
 "nbformat_minor": 4
}
